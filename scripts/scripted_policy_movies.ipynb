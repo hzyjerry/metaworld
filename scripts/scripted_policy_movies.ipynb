{
 "cells": [
  {
   "cell_type": "code",
   "execution_count": 2,
   "metadata": {
    "pycharm": {
     "name": "#%%\n"
    }
   },
   "outputs": [
    {
     "name": "stdout",
     "output_type": "stream",
     "text": [
      "None\n"
     ]
    },
    {
     "name": "stderr",
     "output_type": "stream",
     "text": [
      "/Users/jerry/anaconda3/envs/upn/lib/python3.6/site-packages/gym/logger.py:30: UserWarning: \u001b[33mWARN: Box bound precision lowered by casting to float32\u001b[0m\n",
      "  warnings.warn(colorize('%s: %s'%('WARN', msg % args), 'yellow'))\n"
     ]
    }
   ],
   "source": [
    "import os\n",
    "print(os.chdir('/Users/jerry/Dropbox/Projects/UPN/metaworld'))\n",
    "import functools\n",
    "\n",
    "import cv2\n",
    "import numpy as np\n",
    "\n",
    "from tests.metaworld.envs.mujoco.sawyer_xyz.test_scripted_policies import ALL_ENVS, test_cases_latest_nonoise\n"
   ]
  },
  {
   "cell_type": "code",
   "execution_count": 3,
   "metadata": {
    "pycharm": {
     "name": "#%%\n"
    }
   },
   "outputs": [],
   "source": [
    "def trajectory_generator(env, policy, act_noise_pct, res=(640, 480), camera='corner'):\n",
    "    action_space_ptp = env.action_space.high - env.action_space.low\n",
    "\n",
    "    env.reset()\n",
    "    env.reset_model()\n",
    "    o = env.reset()\n",
    "\n",
    "    for _ in range(env.max_path_length):\n",
    "        a = policy.get_action(o)\n",
    "        a = np.random.normal(a, act_noise_pct * action_space_ptp)\n",
    "\n",
    "        o, r, done, info = env.step(a)\n",
    "        # Camera is one of ['corner', 'topview', 'behindGripper', 'gripperPOV']\n",
    "        yield r, done, info, env.sim.render(*res, mode='offscreen', camera_name=camera)[:,:,::-1]\n",
    "\n",
    "def writer_for(tag, fps, res):\n",
    "    if not os.path.exists('movies'):\n",
    "        os.mkdir('movies')\n",
    "    return cv2.VideoWriter(\n",
    "        f'movies/{tag}.avi',\n",
    "        cv2.VideoWriter_fourcc('M','J','P','G'),\n",
    "        fps,\n",
    "        res\n",
    "    )"
   ]
  },
  {
   "cell_type": "code",
   "execution_count": null,
   "metadata": {
    "pycharm": {
     "name": "#%%\n"
    }
   },
   "outputs": [
    {
     "name": "stdout",
     "output_type": "stream",
     "text": [
      "> \u001b[0;32m<ipython-input-5-48b4ce026021>\u001b[0m(67)\u001b[0;36m<module>\u001b[0;34m()\u001b[0m\n",
      "\u001b[0;32m     65 \u001b[0;31m    \u001b[0mpolicy\u001b[0m \u001b[0;34m=\u001b[0m \u001b[0mfunctools\u001b[0m\u001b[0;34m.\u001b[0m\u001b[0mreduce\u001b[0m\u001b[0;34m(\u001b[0m\u001b[0;32mlambda\u001b[0m \u001b[0ma\u001b[0m\u001b[0;34m,\u001b[0m\u001b[0mb\u001b[0m \u001b[0;34m:\u001b[0m \u001b[0ma\u001b[0m \u001b[0;32mif\u001b[0m \u001b[0ma\u001b[0m\u001b[0;34m[\u001b[0m\u001b[0;36m0\u001b[0m\u001b[0;34m]\u001b[0m \u001b[0;34m==\u001b[0m \u001b[0menv\u001b[0m \u001b[0;32melse\u001b[0m \u001b[0mb\u001b[0m\u001b[0;34m,\u001b[0m \u001b[0mtest_cases_latest_nonoise\u001b[0m\u001b[0;34m)\u001b[0m\u001b[0;34m[\u001b[0m\u001b[0;36m1\u001b[0m\u001b[0;34m]\u001b[0m\u001b[0;34m\u001b[0m\u001b[0;34m\u001b[0m\u001b[0m\n",
      "\u001b[0m\u001b[0;32m     66 \u001b[0;31m    \u001b[0;32mimport\u001b[0m \u001b[0mpdb\u001b[0m\u001b[0;34m;\u001b[0m \u001b[0mpdb\u001b[0m\u001b[0;34m.\u001b[0m\u001b[0mset_trace\u001b[0m\u001b[0;34m(\u001b[0m\u001b[0;34m)\u001b[0m\u001b[0;34m\u001b[0m\u001b[0;34m\u001b[0m\u001b[0m\n",
      "\u001b[0m\u001b[0;32m---> 67 \u001b[0;31m    \u001b[0menv\u001b[0m \u001b[0;34m=\u001b[0m \u001b[0mALL_ENVS\u001b[0m\u001b[0;34m[\u001b[0m\u001b[0menv\u001b[0m\u001b[0;34m]\u001b[0m\u001b[0;34m(\u001b[0m\u001b[0;34m)\u001b[0m\u001b[0;34m\u001b[0m\u001b[0;34m\u001b[0m\u001b[0m\n",
      "\u001b[0m\u001b[0;32m     68 \u001b[0;31m    \u001b[0menv\u001b[0m\u001b[0;34m.\u001b[0m\u001b[0m_partially_observable\u001b[0m \u001b[0;34m=\u001b[0m \u001b[0;32mFalse\u001b[0m\u001b[0;34m\u001b[0m\u001b[0;34m\u001b[0m\u001b[0m\n",
      "\u001b[0m\u001b[0;32m     69 \u001b[0;31m    \u001b[0menv\u001b[0m\u001b[0;34m.\u001b[0m\u001b[0m_freeze_rand_vec\u001b[0m \u001b[0;34m=\u001b[0m \u001b[0;32mFalse\u001b[0m\u001b[0;34m\u001b[0m\u001b[0;34m\u001b[0m\u001b[0m\n",
      "\u001b[0m\n",
      "ipdb> policy\n",
      "<metaworld.policies.sawyer_coffee_pull_v2_policy.SawyerCoffeePullV2Policy object at 0x7f9c69864710>\n",
      "ipdb> test_cases_latest_nonoise\n",
      "[['assembly-v1', <metaworld.policies.sawyer_assembly_v1_policy.SawyerAssemblyV1Policy object at 0x7f9c69864320>, 0.0, 1.0], ['assembly-v2', <metaworld.policies.sawyer_assembly_v2_policy.SawyerAssemblyV2Policy object at 0x7f9c69864358>, 0.0, 1.0], ['basketball-v1', <metaworld.policies.sawyer_basketball_v1_policy.SawyerBasketballV1Policy object at 0x7f9c69864390>, 0.0, 0.98], ['basketball-v2', <metaworld.policies.sawyer_basketball_v2_policy.SawyerBasketballV2Policy object at 0x7f9c698643c8>, 0.0, 0.98], ['bin-picking-v2', <metaworld.policies.sawyer_bin_picking_v2_policy.SawyerBinPickingV2Policy object at 0x7f9c69864400>, 0.0, 0.98], ['box-close-v1', <metaworld.policies.sawyer_box_close_v1_policy.SawyerBoxCloseV1Policy object at 0x7f9c69864438>, 0.0, 0.85], ['box-close-v2', <metaworld.policies.sawyer_box_close_v2_policy.SawyerBoxCloseV2Policy object at 0x7f9c69864470>, 0.0, 0.9], ['button-press-topdown-v1', <metaworld.policies.sawyer_button_press_topdown_v1_policy.SawyerButtonPressTopdownV1Policy object at 0x7f9c698644a8>, 0.0, 1.0], ['button-press-topdown-v2', <metaworld.policies.sawyer_button_press_topdown_v2_policy.SawyerButtonPressTopdownV2Policy object at 0x7f9c698644e0>, 0.0, 0.95], ['button-press-topdown-wall-v1', <metaworld.policies.sawyer_button_press_topdown_wall_v1_policy.SawyerButtonPressTopdownWallV1Policy object at 0x7f9c69864518>, 0.0, 1.0], ['button-press-topdown-wall-v2', <metaworld.policies.sawyer_button_press_topdown_wall_v2_policy.SawyerButtonPressTopdownWallV2Policy object at 0x7f9c69864550>, 0.0, 0.95], ['button-press-v1', <metaworld.policies.sawyer_button_press_v1_policy.SawyerButtonPressV1Policy object at 0x7f9c69864588>, 0.0, 1.0], ['button-press-v2', <metaworld.policies.sawyer_button_press_v2_policy.SawyerButtonPressV2Policy object at 0x7f9c698645c0>, 0.0, 1.0], ['button-press-wall-v1', <metaworld.policies.sawyer_button_press_wall_v1_policy.SawyerButtonPressWallV1Policy object at 0x7f9c698645f8>, 0.0, 1.0], ['button-press-wall-v2', <metaworld.policies.sawyer_button_press_wall_v2_policy.SawyerButtonPressWallV2Policy object at 0x7f9c69864630>, 0.0, 0.93], ['coffee-button-v1', <metaworld.policies.sawyer_coffee_button_v1_policy.SawyerCoffeeButtonV1Policy object at 0x7f9c69864668>, 0.0, 1.0], ['coffee-button-v2', <metaworld.policies.sawyer_coffee_button_v2_policy.SawyerCoffeeButtonV2Policy object at 0x7f9c698646a0>, 0.0, 1.0], ['coffee-pull-v1', <metaworld.policies.sawyer_coffee_pull_v1_policy.SawyerCoffeePullV1Policy object at 0x7f9c698646d8>, 0.0, 0.96], ['coffee-pull-v2', <metaworld.policies.sawyer_coffee_pull_v2_policy.SawyerCoffeePullV2Policy object at 0x7f9c69864710>, 0.0, 0.94], ['coffee-push-v1', <metaworld.policies.sawyer_coffee_push_v1_policy.SawyerCoffeePushV1Policy object at 0x7f9c69864748>, 0.0, 0.93], ['coffee-push-v2', <metaworld.policies.sawyer_coffee_push_v2_policy.SawyerCoffeePushV2Policy object at 0x7f9c69864780>, 0.0, 0.93], ['dial-turn-v1', <metaworld.policies.sawyer_dial_turn_v1_policy.SawyerDialTurnV1Policy object at 0x7f9c698647b8>, 0.0, 0.96], ['dial-turn-v2', <metaworld.policies.sawyer_dial_turn_v2_policy.SawyerDialTurnV2Policy object at 0x7f9c698647f0>, 0.0, 0.96], ['disassemble-v1', <metaworld.policies.sawyer_disassemble_v1_policy.SawyerDisassembleV1Policy object at 0x7f9c69864828>, 0.0, 0.96], ['disassemble-v2', <metaworld.policies.sawyer_disassemble_v2_policy.SawyerDisassembleV2Policy object at 0x7f9c69864860>, 0.0, 0.92], ['door-close-v1', <metaworld.policies.sawyer_door_close_v1_policy.SawyerDoorCloseV1Policy object at 0x7f9c69864898>, 0.0, 0.99], ['door-close-v2', <metaworld.policies.sawyer_door_close_v2_policy.SawyerDoorCloseV2Policy object at 0x7f9c698648d0>, 0.0, 0.99], ['door-lock-v1', <metaworld.policies.sawyer_door_lock_v1_policy.SawyerDoorLockV1Policy object at 0x7f9c69864908>, 0.0, 1.0], ['door-lock-v2', <metaworld.policies.sawyer_door_lock_v2_policy.SawyerDoorLockV2Policy object at 0x7f9c69864940>, 0.0, 1.0], ['door-open-v1', <metaworld.policies.sawyer_door_open_v1_policy.SawyerDoorOpenV1Policy object at 0x7f9c69864978>, 0.0, 0.98], ['door-open-v2', <metaworld.policies.sawyer_door_open_v2_policy.SawyerDoorOpenV2Policy object at 0x7f9c698649b0>, 0.0, 0.94], ['door-unlock-v1', <metaworld.policies.sawyer_door_unlock_v1_policy.SawyerDoorUnlockV1Policy object at 0x7f9c698649e8>, 0.0, 1.0], ['door-unlock-v2', <metaworld.policies.sawyer_door_unlock_v2_policy.SawyerDoorUnlockV2Policy object at 0x7f9c69864a20>, 0.0, 1.0], ['drawer-close-v1', <metaworld.policies.sawyer_drawer_close_v1_policy.SawyerDrawerCloseV1Policy object at 0x7f9c69864a58>, 0.0, 0.99], ['drawer-close-v2', <metaworld.policies.sawyer_drawer_close_v2_policy.SawyerDrawerCloseV2Policy object at 0x7f9c69864a90>, 0.0, 0.99], ['drawer-open-v1', <metaworld.policies.sawyer_drawer_open_v1_policy.SawyerDrawerOpenV1Policy object at 0x7f9c69864ac8>, 0.0, 0.99], ['drawer-open-v2', <metaworld.policies.sawyer_drawer_open_v2_policy.SawyerDrawerOpenV2Policy object at 0x7f9c69864b00>, 0.0, 0.99], ['faucet-close-v1', <metaworld.policies.sawyer_faucet_close_v1_policy.SawyerFaucetCloseV1Policy object at 0x7f9c69864b38>, 0.0, 1.0], ['faucet-close-v2', <metaworld.policies.sawyer_faucet_close_v2_policy.SawyerFaucetCloseV2Policy object at 0x7f9c69864b70>, 0.0, 1.0], ['faucet-open-v1', <metaworld.policies.sawyer_faucet_open_v1_policy.SawyerFaucetOpenV1Policy object at 0x7f9c69864ba8>, 0.0, 1.0], ['faucet-open-v2', <metaworld.policies.sawyer_faucet_open_v2_policy.SawyerFaucetOpenV2Policy object at 0x7f9c69864be0>, 0.0, 1.0], ['hammer-v1', <metaworld.policies.sawyer_hammer_v1_policy.SawyerHammerV1Policy object at 0x7f9c69864c18>, 0.0, 1.0], ['hammer-v2', <metaworld.policies.sawyer_hammer_v2_policy.SawyerHammerV2Policy object at 0x7f9c69864c50>, 0.0, 1.0], ['hand-insert-v1', <metaworld.policies.sawyer_hand_insert_v1_policy.SawyerHandInsertV1Policy object at 0x7f9c69864c88>, 0.0, 0.96], ['hand-insert-v2', <metaworld.policies.sawyer_hand_insert_v2_policy.SawyerHandInsertV2Policy object at 0x7f9c69864cc0>, 0.0, 0.96], ['handle-press-side-v2', <metaworld.policies.sawyer_handle_press_side_v2_policy.SawyerHandlePressSideV2Policy object at 0x7f9c69864cf8>, 0.0, 0.99], ['handle-press-v1', <metaworld.policies.sawyer_handle_press_v1_policy.SawyerHandlePressV1Policy object at 0x7f9c69864d30>, 0.0, 1.0], ['handle-press-v2', <metaworld.policies.sawyer_handle_press_v2_policy.SawyerHandlePressV2Policy object at 0x7f9c69864d68>, 0.0, 1.0], ['handle-pull-v1', <metaworld.policies.sawyer_handle_pull_v1_policy.SawyerHandlePullV1Policy object at 0x7f9c69864da0>, 0.0, 1.0], ['handle-pull-v2', <metaworld.policies.sawyer_handle_pull_v2_policy.SawyerHandlePullV2Policy object at 0x7f9c69864dd8>, 0.0, 0.93], ['handle-pull-side-v1', <metaworld.policies.sawyer_handle_pull_side_v1_policy.SawyerHandlePullSideV1Policy object at 0x7f9c69864e10>, 0.0, 0.92], ['handle-pull-side-v2', <metaworld.policies.sawyer_handle_pull_side_v2_policy.SawyerHandlePullSideV2Policy object at 0x7f9c69864e48>, 0.0, 1.0], ['peg-insert-side-v2', <metaworld.policies.sawyer_peg_insertion_side_v2_policy.SawyerPegInsertionSideV2Policy object at 0x7f9c69864e80>, 0.0, 0.89], ['lever-pull-v2', <metaworld.policies.sawyer_lever_pull_v2_policy.SawyerLeverPullV2Policy object at 0x7f9c69864eb8>, 0.0, 0.94], ['peg-unplug-side-v1', <metaworld.policies.sawyer_peg_unplug_side_v1_policy.SawyerPegUnplugSideV1Policy object at 0x7f9c69864ef0>, 0.0, 0.99], ['peg-unplug-side-v2', <metaworld.policies.sawyer_peg_unplug_side_v2_policy.SawyerPegUnplugSideV2Policy object at 0x7f9c69864f28>, 0.0, 0.99], ['pick-out-of-hole-v1', <metaworld.policies.sawyer_pick_out_of_hole_v1_policy.SawyerPickOutOfHoleV1Policy object at 0x7f9c69864f60>, 0.0, 1.0], ['pick-out-of-hole-v2', <metaworld.policies.sawyer_pick_out_of_hole_v2_policy.SawyerPickOutOfHoleV2Policy object at 0x7f9c69864f98>, 0.0, 1.0], ['pick-place-v2', <metaworld.policies.sawyer_pick_place_v2_policy.SawyerPickPlaceV2Policy object at 0x7f9c69864fd0>, 0.0, 0.95], ['pick-place-wall-v2', <metaworld.policies.sawyer_pick_place_wall_v2_policy.SawyerPickPlaceWallV2Policy object at 0x7f9c69867048>, 0.0, 0.95], ['plate-slide-back-side-v2', <metaworld.policies.sawyer_plate_slide_back_side_v2_policy.SawyerPlateSlideBackSideV2Policy object at 0x7f9c69867080>, 0.0, 1.0], ['plate-slide-back-v1', <metaworld.policies.sawyer_plate_slide_back_v1_policy.SawyerPlateSlideBackV1Policy object at 0x7f9c698670b8>, 0.0, 1.0], ['plate-slide-back-v2', <metaworld.policies.sawyer_plate_slide_back_v2_policy.SawyerPlateSlideBackV2Policy object at 0x7f9c698670f0>, 0.0, 1.0], ['plate-slide-side-v1', <metaworld.policies.sawyer_plate_slide_side_v1_policy.SawyerPlateSlideSideV1Policy object at 0x7f9c69867128>, 0.0, 1.0], ['plate-slide-side-v2', <metaworld.policies.sawyer_plate_slide_side_v2_policy.SawyerPlateSlideSideV2Policy object at 0x7f9c69867160>, 0.0, 1.0], ['plate-slide-v1', <metaworld.policies.sawyer_plate_slide_v1_policy.SawyerPlateSlideV1Policy object at 0x7f9c69867198>, 0.0, 1.0], ['plate-slide-v2', <metaworld.policies.sawyer_plate_slide_v2_policy.SawyerPlateSlideV2Policy object at 0x7f9c698671d0>, 0.0, 1.0], ['reach-v2', <metaworld.policies.sawyer_reach_v2_policy.SawyerReachV2Policy object at 0x7f9c69867208>, 0.0, 0.99], ['reach-wall-v2', <metaworld.policies.sawyer_reach_wall_v2_policy.SawyerReachWallV2Policy object at 0x7f9c69867240>, 0.0, 0.98], ['push-back-v1', <metaworld.policies.sawyer_push_back_v1_policy.SawyerPushBackV1Policy object at 0x7f9c69867278>, 0.0, 0.97], ['push-back-v2', <metaworld.policies.sawyer_push_back_v2_policy.SawyerPushBackV2Policy object at 0x7f9c698672b0>, 0.0, 0.97], ['push-v2', <metaworld.policies.sawyer_push_v2_policy.SawyerPushV2Policy object at 0x7f9c698672e8>, 0.0, 0.97], ['push-wall-v2', <metaworld.policies.sawyer_push_wall_v2_policy.SawyerPushWallV2Policy object at 0x7f9c69867320>, 0.0, 0.97], ['shelf-place-v1', <metaworld.policies.sawyer_shelf_place_v1_policy.SawyerShelfPlaceV1Policy object at 0x7f9c69867358>, 0.0, 0.96], ['shelf-place-v2', <metaworld.policies.sawyer_shelf_place_v2_policy.SawyerShelfPlaceV2Policy object at 0x7f9c69867390>, 0.0, 0.96], ['soccer-v1', <metaworld.policies.sawyer_soccer_v1_policy.SawyerSoccerV1Policy object at 0x7f9c698673c8>, 0.0, 0.88], ['soccer-v2', <metaworld.policies.sawyer_soccer_v2_policy.SawyerSoccerV2Policy object at 0x7f9c69867400>, 0.0, 0.88], ['stick-pull-v1', <metaworld.policies.sawyer_stick_pull_v1_policy.SawyerStickPullV1Policy object at 0x7f9c69867438>, 0.0, 0.95], ['stick-pull-v2', <metaworld.policies.sawyer_stick_pull_v2_policy.SawyerStickPullV2Policy object at 0x7f9c69867470>, 0.0, 0.96], ['stick-push-v1', <metaworld.policies.sawyer_stick_push_v1_policy.SawyerStickPushV1Policy object at 0x7f9c698674a8>, 0.0, 0.98], ['stick-push-v2', <metaworld.policies.sawyer_stick_push_v2_policy.SawyerStickPushV2Policy object at 0x7f9c698674e0>, 0.0, 0.98], ['sweep-into-v1', <metaworld.policies.sawyer_sweep_into_v1_policy.SawyerSweepIntoV1Policy object at 0x7f9c69867518>, 0.0, 1.0], ['sweep-into-v2', <metaworld.policies.sawyer_sweep_into_v2_policy.SawyerSweepIntoV2Policy object at 0x7f9c69867550>, 0.0, 0.98], ['sweep-v1', <metaworld.policies.sawyer_sweep_v1_policy.SawyerSweepV1Policy object at 0x7f9c69867588>, 0.0, 1.0], ['sweep-v2', <metaworld.policies.sawyer_sweep_v2_policy.SawyerSweepV2Policy object at 0x7f9c698675c0>, 0.0, 0.99], ['window-close-v2', <metaworld.policies.sawyer_window_close_v2_policy.SawyerWindowCloseV2Policy object at 0x7f9c698675f8>, 0.0, 0.98], ['window-open-v2', <metaworld.policies.sawyer_window_open_v2_policy.SawyerWindowOpenV2Policy object at 0x7f9c69867630>, 0.0, 0.94]]\n"
     ]
    }
   ],
   "source": [
    "resolution = (1920, 1080)\n",
    "camera = 'behindGripper' # one of ['corner', 'topview', 'behindGripper', 'gripperPOV']\n",
    "flip=True # if True, flips output image 180 degrees\n",
    "\n",
    "config = [\n",
    "    # env, action noise pct, cycles, quit on success\n",
    "#     ('assembly-v2', np.zeros(4), 3, True),\n",
    "#     ('basketball-v2', np.zeros(4), 3, True),\n",
    "#     ('bin-picking-v2', np.zeros(4), 3, True),\n",
    "#     ('box-close-v2', np.zeros(4), 3, True),\n",
    "#     ('button-press-topdown-v2', np.zeros(4), 3, True),\n",
    "#     ('button-press-topdown-wall-v2', np.zeros(4), 3, True),\n",
    "#     ('button-press-v2', np.zeros(4), 3, True),\n",
    "#     ('button-press-wall-v2', np.zeros(4), 3, True),\n",
    "#     ('coffee-button-v2', np.zeros(4), 3, True),\n",
    "    ('coffee-pull-v2', np.zeros(4), 3, True),\n",
    "#     ('coffee-push-v2', np.zeros(4), 3, True),\n",
    "#     ('dial-turn-v2', np.zeros(4), 3, True),\n",
    "#     ('disassemble-v2', np.zeros(4), 3, True),\n",
    "#     ('door-close-v2', np.zeros(4), 3, True),\n",
    "#     ('door-lock-v2', np.zeros(4), 3, True),\n",
    "#     ('door-open-v2', np.zeros(4), 3, True),\n",
    "#     ('door-unlock-v2', np.zeros(4), 3, True),\n",
    "#     ('hand-insert-v2', np.zeros(4), 3, True),\n",
    "#     ('drawer-close-v2', np.zeros(4), 3, True),\n",
    "#     ('drawer-open-v2', np.zeros(4), 3, True),\n",
    "#     ('faucet-open-v2', np.zeros(4), 3, True),\n",
    "#     ('faucet-close-v2', np.zeros(4), 3, True),\n",
    "#     ('hammer-v2', np.zeros(4), 3, True),\n",
    "#     ('handle-press-side-v2', np.zeros(4), 3, True),\n",
    "#     ('handle-press-v2', np.zeros(4), 3, True),\n",
    "#     ('handle-pull-side-v2', np.zeros(4), 3, True),\n",
    "#     ('handle-pull-v2', np.zeros(4), 3, True),\n",
    "#     ('lever-pull-v2', np.zeros(4), 3, True),\n",
    "#     ('peg-insert-side-v2', np.zeros(4), 3, True),\n",
    "#     ('pick-place-wall-v2', np.zeros(4), 3, True),\n",
    "#     ('pick-out-of-hole-v2', np.zeros(4), 3, True),\n",
    "#     ('reach-v2', np.zeros(4), 3, True),\n",
    "#     ('push-back-v2', np.zeros(4), 3, True),\n",
    "#     ('push-v2', np.zeros(4), 3, True),\n",
    "#     ('pick-place-v2', np.zeros(4), 3, True),\n",
    "#     ('plate-slide-v2', np.zeros(4), 3, True),\n",
    "#     ('plate-slide-side-v2', np.zeros(4), 3, True),\n",
    "#     ('plate-slide-back-v2', np.zeros(4), 3, True),\n",
    "#     ('plate-slide-back-side-v2', np.zeros(4), 3, True),\n",
    "#     ('peg-insert-side-v2', np.zeros(4), 3, True),\n",
    "#     ('peg-unplug-side-v2', np.zeros(4), 3, True),\n",
    "#     ('soccer-v2', np.zeros(4), 3, True),\n",
    "#     ('stick-push-v2', np.zeros(4), 3, True),\n",
    "#     ('stick-pull-v2', np.zeros(4), 3, True),\n",
    "#     ('push-wall-v2', np.zeros(4), 3, True),\n",
    "#     ('push-v2', np.zeros(4), 3, True),\n",
    "#     ('reach-wall-v2', np.zeros(4), 3, True),\n",
    "#     ('reach-v2', np.zeros(4), 3, True),\n",
    "#     ('shelf-place-v2', np.zeros(4), 3, True),\n",
    "#     ('sweep-into-v2', np.zeros(4), 3, True),\n",
    "#     ('sweep-v2', np.zeros(4), 3, True),\n",
    "#     ('window-open-v2', np.zeros(4), 3, True),\n",
    "#     ('window-close-v2', np.zeros(4), 3, True),\n",
    "]\n",
    "\n",
    "for env, noise, cycles, quit_on_success in config:\n",
    "    tag = env + '-noise-' + np.array2string(noise, precision=2, separator=',', suppress_small=True)\n",
    "\n",
    "    policy = functools.reduce(lambda a,b : a if a[0] == env else b, test_cases_latest_nonoise)[1]\n",
    "    import pdb; pdb.set_trace()\n",
    "    env = ALL_ENVS[env]()\n",
    "    env._partially_observable = False\n",
    "    env._freeze_rand_vec = False\n",
    "    env._set_task_called = True\n",
    "\n",
    "    writer = writer_for(tag, env.metadata['video.frames_per_second'], resolution)\n",
    "    for _ in range(cycles):\n",
    "        idx = 0\n",
    "        rew = 0\n",
    "        for r, done, info, img in trajectory_generator(env, policy, noise, resolution, camera):\n",
    "            idx += 1\n",
    "            rew += r\n",
    "            if flip: img = cv2.rotate(img, cv2.ROTATE_180)\n",
    "            writer.write(img)\n",
    "            if quit_on_success and info['success']:\n",
    "                print(idx)\n",
    "                print(f\"Reward {rew}\")\n",
    "                break\n",
    "    writer.release()"
   ]
  },
  {
   "cell_type": "code",
   "execution_count": null,
   "metadata": {},
   "outputs": [],
   "source": []
  },
  {
   "cell_type": "code",
   "execution_count": null,
   "metadata": {},
   "outputs": [],
   "source": []
  }
 ],
 "metadata": {
  "kernelspec": {
   "display_name": "Python 3",
   "language": "python",
   "name": "python3"
  },
  "language_info": {
   "codemirror_mode": {
    "name": "ipython",
    "version": 3
   },
   "file_extension": ".py",
   "mimetype": "text/x-python",
   "name": "python",
   "nbconvert_exporter": "python",
   "pygments_lexer": "ipython3",
   "version": "3.6.12"
  }
 },
 "nbformat": 4,
 "nbformat_minor": 1
}
